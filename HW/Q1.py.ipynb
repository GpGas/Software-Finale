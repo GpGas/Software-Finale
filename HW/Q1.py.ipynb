{
 "cells": [
  {
   "cell_type": "code",
   "execution_count": 3,
   "id": "494e390e",
   "metadata": {},
   "outputs": [],
   "source": [
    "\n",
    "import numpy as np\n",
    "\n",
    "f = open(\"sample_AAPL.txt\", \"r\")\n",
    "listItems = f.read().splitlines()\n",
    "\n",
    "appleprices=listItems\n",
    "for i in range(0, len(listItems)):\n",
    " appleprices[i] = float(listItems[i])\n"
   ]
  },
  {
   "cell_type": "code",
   "execution_count": 26,
   "id": "77dbd317",
   "metadata": {},
   "outputs": [
    {
     "name": "stdout",
     "output_type": "stream",
     "text": [
      "The Mean of the prices is 88.68756945238094 \n",
      " The Standard deviaton of the prices is 20.455228865439324\n",
      "Rounded the mean is 89 \n",
      " Rouned Standard deviation 20\n"
     ]
    }
   ],
   "source": [
    "print (\"The Mean of the prices is\" , np.mean(listItems) ,\"\\n\" , \"The Standard deviaton of the prices is\" , np.std(listItems) )\n",
    "\n",
    "print(\"Rounded the mean is\" , (round(np.mean(listItems))) ,\"\\n\" ,\"Rouned Standard deviation\" , (round(np.std(listItems))))"
   ]
  },
  {
   "cell_type": "code",
   "execution_count": null,
   "id": "b7ec02af",
   "metadata": {},
   "outputs": [],
   "source": []
  }
 ],
 "metadata": {
  "kernelspec": {
   "display_name": "Python 3 (ipykernel)",
   "language": "python",
   "name": "python3"
  },
  "language_info": {
   "codemirror_mode": {
    "name": "ipython",
    "version": 3
   },
   "file_extension": ".py",
   "mimetype": "text/x-python",
   "name": "python",
   "nbconvert_exporter": "python",
   "pygments_lexer": "ipython3",
   "version": "3.11.4"
  }
 },
 "nbformat": 4,
 "nbformat_minor": 5
}
